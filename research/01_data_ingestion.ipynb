{
 "cells": [
  {
   "cell_type": "code",
   "id": "initial_id",
   "metadata": {
    "collapsed": true,
    "ExecuteTime": {
     "end_time": "2025-03-20T02:08:28.945607Z",
     "start_time": "2025-03-20T02:08:28.931471Z"
    }
   },
   "source": [
    "import os \n",
    "%pwd"
   ],
   "outputs": [
    {
     "data": {
      "text/plain": [
       "'/Applications/AI/GAN/research'"
      ]
     },
     "execution_count": 1,
     "metadata": {},
     "output_type": "execute_result"
    }
   ],
   "execution_count": 1
  },
  {
   "metadata": {
    "ExecuteTime": {
     "end_time": "2025-03-20T02:08:28.965384Z",
     "start_time": "2025-03-20T02:08:28.961056Z"
    }
   },
   "cell_type": "code",
   "source": [
    "os.chdir('../')\n",
    "%pwd"
   ],
   "id": "b5ea9ae0866d862a",
   "outputs": [
    {
     "data": {
      "text/plain": [
       "'/Applications/AI/GAN'"
      ]
     },
     "execution_count": 2,
     "metadata": {},
     "output_type": "execute_result"
    }
   ],
   "execution_count": 2
  },
  {
   "metadata": {
    "ExecuteTime": {
     "end_time": "2025-03-20T02:08:29.017271Z",
     "start_time": "2025-03-20T02:08:29.013666Z"
    }
   },
   "cell_type": "code",
   "source": "os.listdir()",
   "id": "b034a76929a25bf2",
   "outputs": [
    {
     "data": {
      "text/plain": [
       "['research',\n",
       " 'requirements.txt',\n",
       " 'config',\n",
       " 'params.yaml',\n",
       " 'README.md',\n",
       " 'setup.py',\n",
       " 'dvc.yaml',\n",
       " 'logs',\n",
       " '.venv',\n",
       " '.github',\n",
       " 'template.py',\n",
       " 'templates',\n",
       " '.git',\n",
       " 'main.py',\n",
       " '.idea',\n",
       " 'src']"
      ]
     },
     "execution_count": 3,
     "metadata": {},
     "output_type": "execute_result"
    }
   ],
   "execution_count": 3
  },
  {
   "metadata": {
    "ExecuteTime": {
     "end_time": "2025-03-20T02:08:29.236591Z",
     "start_time": "2025-03-20T02:08:29.034575Z"
    }
   },
   "cell_type": "code",
   "source": [
    "from dataclasses import dataclass\n",
    "from pathlib import Path\n",
    "\n",
    "@dataclass(frozen=True)\n",
    "class DataIngestionConfig:\n",
    "    root_dir: Path\n",
    "    source_URL: str\n",
    "    local_data_file: Path\n",
    "    unzip_dir: Path\n",
    "\n",
    "# Data Ingestion: config\n",
    "from src.GAN.constants import *\n",
    "from src.GAN.utils.common import read_yaml, create_directories"
   ],
   "id": "4b981542a48ea69d",
   "outputs": [],
   "execution_count": 4
  },
  {
   "metadata": {
    "ExecuteTime": {
     "end_time": "2025-03-20T02:08:29.254379Z",
     "start_time": "2025-03-20T02:08:29.241519Z"
    }
   },
   "cell_type": "code",
   "source": [
    "class ConfigurationManager:\n",
    "    def __init__(\n",
    "        self,\n",
    "        config_filepath = CONFIG_FILE_PATH,\n",
    "        params_filepath = PARAMS_FILE_PATH):\n",
    "\n",
    "        self.config = read_yaml(config_filepath)\n",
    "        self.params = read_yaml(params_filepath)\n",
    "\n",
    "        create_directories([self.config.artifacts_root])\n",
    "    \n",
    "    def get_data_ingestion_config(self) -> DataIngestionConfig:\n",
    "        config = self.config.data_ingestion\n",
    "\n",
    "        create_directories([config.root_dir])\n",
    "\n",
    "        data_ingestion_config = DataIngestionConfig(\n",
    "            root_dir=config.root_dir,\n",
    "            source_URL=config.source_URL,\n",
    "            local_data_file=config.local_data_file,\n",
    "            unzip_dir=config.unzip_dir \n",
    "        )\n",
    "\n",
    "        return data_ingestion_config"
   ],
   "id": "64992ea840e66a90",
   "outputs": [],
   "execution_count": 5
  },
  {
   "metadata": {
    "ExecuteTime": {
     "end_time": "2025-03-20T02:16:58.985268Z",
     "start_time": "2025-03-20T02:08:29.262369Z"
    }
   },
   "cell_type": "code",
   "source": [
    "# Data Ingestion: Components\n",
    "import os\n",
    "import zipfile\n",
    "import gdown\n",
    "from src.GAN import logger\n",
    "from src.GAN.utils.common import get_size\n",
    "\n",
    "class DataIngestion:\n",
    "    def __init__(self, config: DataIngestionConfig):\n",
    "        self.config = config\n",
    "    \n",
    "    def download_file(self) -> None:\n",
    "        '''\n",
    "        Fetch data from the url\n",
    "        '''\n",
    "\n",
    "        try: \n",
    "            dataset_url = self.config.source_URL\n",
    "            zip_download_dir = self.config.local_data_file\n",
    "            os.makedirs(\"artifacts/data_ingestion\", exist_ok=True)\n",
    "            logger.info(f\"Downloading data from {dataset_url} into file {zip_download_dir}\")\n",
    "\n",
    "            file_id = dataset_url.split(\"/\")[-2]\n",
    "            prefix = 'https://drive.google.com/uc?/export=download&id='\n",
    "            gdown.download(prefix+file_id,zip_download_dir)\n",
    "\n",
    "            logger.info(f\"Downloaded data from {dataset_url} into file {zip_download_dir}\")\n",
    "\n",
    "        except Exception as e:\n",
    "            raise e\n",
    "    \n",
    "    def extract_zip_file(self) -> None:\n",
    "        \"\"\"\n",
    "        zip_file_path: str\n",
    "        Extracts the zip file into the data directory\n",
    "        Function returns None\n",
    "        \"\"\"\n",
    "        unzip_path = self.config.unzip_dir\n",
    "        os.makedirs(unzip_path, exist_ok=True)\n",
    "        with zipfile.ZipFile(self.config.local_data_file, 'r') as zip_ref:\n",
    "            zip_ref.extractall(unzip_path)\n",
    "\n",
    "# Data Ingestion: pipeline\n",
    "try:\n",
    "    config = ConfigurationManager()\n",
    "    data_ingestion_config = config.get_data_ingestion_config()\n",
    "    data_ingestion = DataIngestion(config=data_ingestion_config)\n",
    "    data_ingestion.download_file()\n",
    "    data_ingestion.extract_zip_file()\n",
    "except Exception as e:\n",
    "    raise e\n",
    "\n",
    "# if error check pwd or restart program"
   ],
   "id": "1d6a90b2c699f863",
   "outputs": [
    {
     "name": "stdout",
     "output_type": "stream",
     "text": [
      "[2025-03-20 09:08:29,563: INFO: common: yaml file: config/config.yaml loaded successfully]\n",
      "[2025-03-20 09:08:29,567: INFO: common: yaml file: params.yaml loaded successfully]\n",
      "[2025-03-20 09:08:29,568: INFO: common: created directory at: artifacts]\n",
      "[2025-03-20 09:08:29,571: INFO: common: created directory at: artifacts/data_ingestion]\n",
      "[2025-03-20 09:08:29,572: INFO: 2177093844: Downloading data from https://drive.google.com/file/d/1OsDiZ9Kyo-Qxa1xYKVWAZPasFgzAdjcP/view?usp=sharing into file artifacts/data_ingestion/data.zip]\n"
     ]
    },
    {
     "name": "stderr",
     "output_type": "stream",
     "text": [
      "/Applications/AI/GAN/.venv/lib/python3.9/site-packages/urllib3/__init__.py:35: NotOpenSSLWarning: urllib3 v2 only supports OpenSSL 1.1.1+, currently the 'ssl' module is compiled with 'LibreSSL 2.8.3'. See: https://github.com/urllib3/urllib3/issues/3020\n",
      "  warnings.warn(\n",
      "Downloading...\n",
      "From (original): https://drive.google.com/uc?/export=download&id=1OsDiZ9Kyo-Qxa1xYKVWAZPasFgzAdjcP\n",
      "From (redirected): https://drive.google.com/uc?%2Fexport=download&id=1OsDiZ9Kyo-Qxa1xYKVWAZPasFgzAdjcP&confirm=t&uuid=a47bd314-dadc-4db3-88c7-2748151f1b83\n",
      "To: /Applications/AI/GAN/artifacts/data_ingestion/data.zip\n",
      "100%|██████████| 1.63G/1.63G [08:05<00:00, 3.36MB/s]"
     ]
    },
    {
     "name": "stdout",
     "output_type": "stream",
     "text": [
      "[2025-03-20 09:16:42,368: INFO: 2177093844: Downloaded data from https://drive.google.com/file/d/1OsDiZ9Kyo-Qxa1xYKVWAZPasFgzAdjcP/view?usp=sharing into file artifacts/data_ingestion/data.zip]\n"
     ]
    },
    {
     "name": "stderr",
     "output_type": "stream",
     "text": [
      "\n"
     ]
    }
   ],
   "execution_count": 6
  }
 ],
 "metadata": {
  "kernelspec": {
   "display_name": "Python 3",
   "language": "python",
   "name": "python3"
  },
  "language_info": {
   "codemirror_mode": {
    "name": "ipython",
    "version": 2
   },
   "file_extension": ".py",
   "mimetype": "text/x-python",
   "name": "python",
   "nbconvert_exporter": "python",
   "pygments_lexer": "ipython2",
   "version": "2.7.6"
  }
 },
 "nbformat": 4,
 "nbformat_minor": 5
}
