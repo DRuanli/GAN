{
 "cells": [
  {
   "cell_type": "code",
   "id": "initial_id",
   "metadata": {
    "collapsed": true,
    "ExecuteTime": {
     "end_time": "2025-03-20T02:51:48.554790Z",
     "start_time": "2025-03-20T02:51:48.538111Z"
    }
   },
   "source": [
    "import os \n",
    "%pwd"
   ],
   "outputs": [
    {
     "data": {
      "text/plain": [
       "'/Applications/AI/GAN/research'"
      ]
     },
     "execution_count": 1,
     "metadata": {},
     "output_type": "execute_result"
    }
   ],
   "execution_count": 1
  },
  {
   "metadata": {
    "ExecuteTime": {
     "end_time": "2025-03-20T02:51:48.560298Z",
     "start_time": "2025-03-20T02:51:48.557712Z"
    }
   },
   "cell_type": "code",
   "source": "os.chdir('../')",
   "id": "61e27f84ce1c96a3",
   "outputs": [],
   "execution_count": 2
  },
  {
   "metadata": {
    "ExecuteTime": {
     "end_time": "2025-03-20T02:51:48.568747Z",
     "start_time": "2025-03-20T02:51:48.562788Z"
    }
   },
   "cell_type": "code",
   "source": "%pwd",
   "id": "26ce607032bfb81c",
   "outputs": [
    {
     "data": {
      "text/plain": [
       "'/Applications/AI/GAN'"
      ]
     },
     "execution_count": 3,
     "metadata": {},
     "output_type": "execute_result"
    }
   ],
   "execution_count": 3
  },
  {
   "metadata": {
    "ExecuteTime": {
     "end_time": "2025-03-20T02:51:48.574844Z",
     "start_time": "2025-03-20T02:51:48.570612Z"
    }
   },
   "cell_type": "code",
   "source": [
    "from dataclasses import dataclass\n",
    "from pathlib import Path"
   ],
   "id": "94dc53ef40dde8d0",
   "outputs": [],
   "execution_count": 4
  },
  {
   "metadata": {
    "ExecuteTime": {
     "end_time": "2025-03-20T02:51:48.869312Z",
     "start_time": "2025-03-20T02:51:48.578790Z"
    }
   },
   "cell_type": "code",
   "source": [
    "@dataclass(frozen=True)\n",
    "class PrepareGANModelConfig:\n",
    "    root_dir: Path\n",
    "    generator_model_path: Path\n",
    "    discriminator_model_path: Path\n",
    "    params_image_size: list\n",
    "    params_learning_rate: float\n",
    "    params_generator_filters: int\n",
    "    params_discriminator_filters: int\n",
    "    params_use_bias: bool\n",
    "    params_dropout_rate: float\n",
    "    \n",
    "from src.GAN.constants import *\n",
    "from src.GAN.utils.common import read_yaml, create_directories"
   ],
   "id": "9002f4a8ba5448bc",
   "outputs": [],
   "execution_count": 5
  },
  {
   "metadata": {
    "ExecuteTime": {
     "end_time": "2025-03-20T02:51:48.909041Z",
     "start_time": "2025-03-20T02:51:48.876179Z"
    }
   },
   "cell_type": "code",
   "source": [
    "class ConfigurationManager:\n",
    "    def __init__(\n",
    "        self,\n",
    "        config_filepath = CONFIG_FILE_PATH,\n",
    "        params_filepath = PARAMS_FILE_PATH):\n",
    "\n",
    "        self.config = read_yaml(config_filepath)\n",
    "        self.params = read_yaml(params_filepath)\n",
    "\n",
    "        create_directories([self.config.artifacts_root])\n",
    "    \n",
    "    def get_prepare_gan_model_config(self) -> PrepareGANModelConfig:\n",
    "        config = self.config.prepare_gan_model\n",
    "\n",
    "        create_directories([config.root_dir])\n",
    "\n",
    "        prepare_gan_model_config = PrepareGANModelConfig(\n",
    "            root_dir=Path(config.root_dir),\n",
    "            generator_model_path=Path(config.generator_model_path),\n",
    "            discriminator_model_path=Path(config.discriminator_model_path),\n",
    "            params_image_size=self.params.IMAGE_SIZE,\n",
    "            params_learning_rate=self.params.LEARNING_RATE,\n",
    "            params_generator_filters=self.params.GENERATOR_FILTERS,\n",
    "            params_discriminator_filters=self.params.DISCRIMINATOR_FILTERS,\n",
    "            params_use_bias=self.params.USE_BIAS,\n",
    "            params_dropout_rate=self.params.DROPOUT_RATE\n",
    "        )\n",
    "\n",
    "        return prepare_gan_model_config"
   ],
   "id": "26cb238a96eb3fbf",
   "outputs": [],
   "execution_count": 6
  },
  {
   "metadata": {
    "ExecuteTime": {
     "end_time": "2025-03-20T02:51:55.117080Z",
     "start_time": "2025-03-20T02:51:48.938790Z"
    }
   },
   "cell_type": "code",
   "source": [
    "# GAN Model Preparation: components\n",
    "import tensorflow as tf\n",
    "\n",
    "class PrepareGANModel:\n",
    "    def __init__(self, config: PrepareGANModelConfig):\n",
    "        self.config = config\n",
    "    \n",
    "    def build_generator(self):\n",
    "        \"\"\"\n",
    "        Builds a U-Net style generator for image-to-image translation\n",
    "        \"\"\"\n",
    "        inputs = tf.keras.layers.Input(shape=self.config.params_image_size)\n",
    "        \n",
    "        # Encoder (downsampling)\n",
    "        enc1 = self._downsample(inputs, self.config.params_generator_filters)\n",
    "        enc2 = self._downsample(enc1, self.config.params_generator_filters * 2)\n",
    "        enc3 = self._downsample(enc2, self.config.params_generator_filters * 4)\n",
    "        enc4 = self._downsample(enc3, self.config.params_generator_filters * 8)\n",
    "        \n",
    "        # Bottleneck\n",
    "        bottleneck = self._downsample(enc4, self.config.params_generator_filters * 8)\n",
    "        \n",
    "        # Decoder (upsampling with skip connections)\n",
    "        dec1 = self._upsample(bottleneck, enc4, self.config.params_generator_filters * 8)\n",
    "        dec2 = self._upsample(dec1, enc3, self.config.params_generator_filters * 4)\n",
    "        dec3 = self._upsample(dec2, enc2, self.config.params_generator_filters * 2)\n",
    "        dec4 = self._upsample(dec3, enc1, self.config.params_generator_filters)\n",
    "        \n",
    "        # Output layer\n",
    "        outputs = tf.keras.layers.Conv2D(3, 4, padding='same', activation='tanh')(dec4)\n",
    "        \n",
    "        generator = tf.keras.Model(inputs=inputs, outputs=outputs)\n",
    "        generator.compile(\n",
    "            optimizer=tf.keras.optimizers.Adam(learning_rate=self.config.params_learning_rate, beta_1=0.5),\n",
    "            loss='mae'\n",
    "        )\n",
    "        \n",
    "        return generator\n",
    "    \n",
    "    def build_discriminator(self):\n",
    "        \"\"\"\n",
    "        Builds a PatchGAN discriminator for image classification\n",
    "        \"\"\"\n",
    "        inputs = tf.keras.layers.Input(shape=self.config.params_image_size)\n",
    "        \n",
    "        # Layer 1\n",
    "        x = tf.keras.layers.Conv2D(\n",
    "            self.config.params_discriminator_filters, 4, strides=2, padding='same',\n",
    "            use_bias=self.config.params_use_bias)(inputs)\n",
    "        x = tf.keras.layers.LeakyReLU(0.2)(x)\n",
    "        \n",
    "        # Layer 2\n",
    "        x = tf.keras.layers.Conv2D(\n",
    "            self.config.params_discriminator_filters * 2, 4, strides=2, padding='same',\n",
    "            use_bias=self.config.params_use_bias)(x)\n",
    "        x = tf.keras.layers.BatchNormalization()(x)\n",
    "        x = tf.keras.layers.LeakyReLU(0.2)(x)\n",
    "        \n",
    "        # Layer 3\n",
    "        x = tf.keras.layers.Conv2D(\n",
    "            self.config.params_discriminator_filters * 4, 4, strides=2, padding='same',\n",
    "            use_bias=self.config.params_use_bias)(x)\n",
    "        x = tf.keras.layers.BatchNormalization()(x)\n",
    "        x = tf.keras.layers.LeakyReLU(0.2)(x)\n",
    "        \n",
    "        # Layer 4\n",
    "        x = tf.keras.layers.Conv2D(\n",
    "            self.config.params_discriminator_filters * 8, 4, strides=1, padding='same',\n",
    "            use_bias=self.config.params_use_bias)(x)\n",
    "        x = tf.keras.layers.BatchNormalization()(x)\n",
    "        x = tf.keras.layers.LeakyReLU(0.2)(x)\n",
    "        \n",
    "        # Output layer\n",
    "        outputs = tf.keras.layers.Conv2D(1, 4, strides=1, padding='same')(x)\n",
    "        \n",
    "        discriminator = tf.keras.Model(inputs=inputs, outputs=outputs)\n",
    "        discriminator.compile(\n",
    "            optimizer=tf.keras.optimizers.Adam(learning_rate=self.config.params_learning_rate, beta_1=0.5),\n",
    "            loss=tf.keras.losses.BinaryCrossentropy(from_logits=True),\n",
    "            metrics=['accuracy']\n",
    "        )\n",
    "        \n",
    "        return discriminator\n",
    "    \n",
    "    def _downsample(self, inputs, filters, size=4, strides=2, apply_batchnorm=True):\n",
    "        \"\"\"Helper function for downsampling layers in the generator\"\"\"\n",
    "        x = tf.keras.layers.Conv2D(filters, size, strides=strides, padding='same',\n",
    "                                  use_bias=self.config.params_use_bias)(inputs)\n",
    "        \n",
    "        if apply_batchnorm:\n",
    "            x = tf.keras.layers.BatchNormalization()(x)\n",
    "            \n",
    "        x = tf.keras.layers.LeakyReLU(0.2)(x)\n",
    "        \n",
    "        return x\n",
    "    \n",
    "    def _upsample(self, inputs, skip_connection, filters, size=4, strides=2, apply_dropout=False):\n",
    "        \"\"\"Helper function for upsampling layers in the generator\"\"\"\n",
    "        x = tf.keras.layers.Conv2DTranspose(filters, size, strides=strides, padding='same',\n",
    "                                           use_bias=self.config.params_use_bias)(inputs)\n",
    "        \n",
    "        x = tf.keras.layers.BatchNormalization()(x)\n",
    "        \n",
    "        if apply_dropout:\n",
    "            x = tf.keras.layers.Dropout(self.config.params_dropout_rate)(x)\n",
    "            \n",
    "        x = tf.keras.layers.ReLU()(x)\n",
    "        \n",
    "        # Skip connection (concatenate)\n",
    "        x = tf.keras.layers.Concatenate()([x, skip_connection])\n",
    "        \n",
    "        return x\n",
    "    \n",
    "    def prepare_gan_model(self):\n",
    "        \"\"\"\n",
    "        Prepares both generator and discriminator models and saves them\n",
    "        \"\"\"\n",
    "        generator = self.build_generator()\n",
    "        discriminator = self.build_discriminator()\n",
    "        \n",
    "        # Save models\n",
    "        self.save_model(self.config.generator_model_path, generator)\n",
    "        self.save_model(self.config.discriminator_model_path, discriminator)\n",
    "        \n",
    "        return generator, discriminator\n",
    "    \n",
    "    @staticmethod\n",
    "    def save_model(path: Path, model: tf.keras.Model) -> None:\n",
    "        model.save(path)\n",
    "        \n",
    "# GAN Model Preparation: pipeline\n",
    "try:\n",
    "    config = ConfigurationManager()\n",
    "    prepare_gan_model_config = config.get_prepare_gan_model_config()\n",
    "    prepare_gan_model = PrepareGANModel(config=prepare_gan_model_config)\n",
    "    generator, discriminator = prepare_gan_model.prepare_gan_model()\n",
    "except Exception as e:\n",
    "    raise e"
   ],
   "id": "49b635a0baa5cc47",
   "outputs": [
    {
     "name": "stderr",
     "output_type": "stream",
     "text": [
      "/Applications/AI/GAN/.venv/lib/python3.9/site-packages/urllib3/__init__.py:35: NotOpenSSLWarning: urllib3 v2 only supports OpenSSL 1.1.1+, currently the 'ssl' module is compiled with 'LibreSSL 2.8.3'. See: https://github.com/urllib3/urllib3/issues/3020\n",
      "  warnings.warn(\n"
     ]
    },
    {
     "name": "stdout",
     "output_type": "stream",
     "text": [
      "[2025-03-20 09:51:54,675: INFO: common: yaml file: config/config.yaml loaded successfully]\n",
      "[2025-03-20 09:51:54,677: INFO: common: yaml file: params.yaml loaded successfully]\n",
      "[2025-03-20 09:51:54,678: INFO: common: created directory at: artifacts]\n",
      "[2025-03-20 09:51:54,679: INFO: common: created directory at: artifacts/prepare_gan_model]\n",
      "[2025-03-20 09:51:54,918: WARNING: optimizer: At this time, the v2.11+ optimizer `tf.keras.optimizers.Adam` runs slowly on M1/M2 Macs, please use the legacy Keras optimizer instead, located at `tf.keras.optimizers.legacy.Adam`.]\n",
      "[2025-03-20 09:51:54,921: WARNING: __init__: There is a known slowdown when using v2.11+ Keras optimizers on M1/M2 Macs. Falling back to the legacy Keras optimizer, i.e., `tf.keras.optimizers.legacy.Adam`.]\n",
      "[2025-03-20 09:51:54,981: WARNING: optimizer: At this time, the v2.11+ optimizer `tf.keras.optimizers.Adam` runs slowly on M1/M2 Macs, please use the legacy Keras optimizer instead, located at `tf.keras.optimizers.legacy.Adam`.]\n",
      "[2025-03-20 09:51:54,984: WARNING: __init__: There is a known slowdown when using v2.11+ Keras optimizers on M1/M2 Macs. Falling back to the legacy Keras optimizer, i.e., `tf.keras.optimizers.legacy.Adam`.]\n"
     ]
    },
    {
     "name": "stderr",
     "output_type": "stream",
     "text": [
      "/Applications/AI/GAN/.venv/lib/python3.9/site-packages/keras/src/engine/training.py:3000: UserWarning: You are saving your model as an HDF5 file via `model.save()`. This file format is considered legacy. We recommend using instead the native Keras format, e.g. `model.save('my_model.keras')`.\n",
      "  saving_api.save_model(\n"
     ]
    }
   ],
   "execution_count": 7
  }
 ],
 "metadata": {
  "kernelspec": {
   "display_name": "Python 3",
   "language": "python",
   "name": "python3"
  },
  "language_info": {
   "codemirror_mode": {
    "name": "ipython",
    "version": 2
   },
   "file_extension": ".py",
   "mimetype": "text/x-python",
   "name": "python",
   "nbconvert_exporter": "python",
   "pygments_lexer": "ipython2",
   "version": "2.7.6"
  }
 },
 "nbformat": 4,
 "nbformat_minor": 5
}
