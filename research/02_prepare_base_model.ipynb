{
 "cells": [
  {
   "cell_type": "code",
   "id": "initial_id",
   "metadata": {
    "collapsed": true,
    "ExecuteTime": {
     "end_time": "2025-03-20T02:27:49.432970Z",
     "start_time": "2025-03-20T02:27:49.424293Z"
    }
   },
   "source": [
    "import os \n",
    "%pwd"
   ],
   "outputs": [
    {
     "data": {
      "text/plain": [
       "'/Applications/AI/GAN/research'"
      ]
     },
     "execution_count": 1,
     "metadata": {},
     "output_type": "execute_result"
    }
   ],
   "execution_count": 1
  },
  {
   "metadata": {
    "ExecuteTime": {
     "end_time": "2025-03-20T02:27:58.397866Z",
     "start_time": "2025-03-20T02:27:58.383296Z"
    }
   },
   "cell_type": "code",
   "source": "os.chdir('../')",
   "id": "61e27f84ce1c96a3",
   "outputs": [],
   "execution_count": 2
  },
  {
   "metadata": {
    "ExecuteTime": {
     "end_time": "2025-03-20T02:28:03.832902Z",
     "start_time": "2025-03-20T02:28:03.827401Z"
    }
   },
   "cell_type": "code",
   "source": "%pwd",
   "id": "26ce607032bfb81c",
   "outputs": [
    {
     "data": {
      "text/plain": [
       "'/Applications/AI/GAN'"
      ]
     },
     "execution_count": 3,
     "metadata": {},
     "output_type": "execute_result"
    }
   ],
   "execution_count": 3
  },
  {
   "metadata": {
    "ExecuteTime": {
     "end_time": "2025-03-20T02:28:42.375013Z",
     "start_time": "2025-03-20T02:28:42.369640Z"
    }
   },
   "cell_type": "code",
   "source": [
    "from dataclasses import dataclass\n",
    "from pathlib import Path"
   ],
   "id": "94dc53ef40dde8d0",
   "outputs": [],
   "execution_count": 4
  },
  {
   "metadata": {},
   "cell_type": "code",
   "outputs": [],
   "execution_count": null,
   "source": [
    "@dataclass(forzen=True)\n",
    "class PrepareBaseModelConfig:\n",
    "    root_dir: Path \n",
    "    base_model_path: Path\n",
    "    updated_base_model_path: Path\n",
    "    params_learning_rate: float\n",
    "    params_include_top: bool\n",
    "    params_weights: str\n",
    "    params_classes: int\n",
    "    \n",
    "\n",
    "from src.GAN.constants import *\n",
    "from src.GAN.utils.common import read_yaml, create_directories"
   ],
   "id": "9002f4a8ba5448bc"
  }
 ],
 "metadata": {
  "kernelspec": {
   "display_name": "Python 3",
   "language": "python",
   "name": "python3"
  },
  "language_info": {
   "codemirror_mode": {
    "name": "ipython",
    "version": 2
   },
   "file_extension": ".py",
   "mimetype": "text/x-python",
   "name": "python",
   "nbconvert_exporter": "python",
   "pygments_lexer": "ipython2",
   "version": "2.7.6"
  }
 },
 "nbformat": 4,
 "nbformat_minor": 5
}
